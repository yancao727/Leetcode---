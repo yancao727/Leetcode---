{
 "cells": [
  {
   "cell_type": "markdown",
   "metadata": {},
   "source": [
    "# 294. Flip Game II\n",
    "ou are playing the following Flip Game with your friend: Given a string that contains only these two characters: + and -, you and your friend take turns to flip two consecutive \"++\" into \"--\". The game ends when a person can no longer make a move and therefore the other person will be the winner.\n",
    "\n",
    "Write a function to determine if the starting player can guarantee a win.\n",
    "\n",
    "For example, given s = \"++++\", return true. The starting player can guarantee a win by flipping the middle \"++\" to become \"+--+\"."
   ]
  },
  {
   "cell_type": "code",
   "execution_count": null,
   "metadata": {},
   "outputs": [],
   "source": [
    "class Solution(object):\n",
    "    def canWin(self, s):\n",
    "        \"\"\"\n",
    "        :type s: str\n",
    "        :rtype: bool\n",
    "        \"\"\"\n",
    "        for i in range(len(s) - 1): # 寻找所有的翻转可能\n",
    "            if s[i:i+2] == \"++\":\n",
    "                current = s[0:i] + \"--\" + s[i+2:] # 把找到的++变成--\n",
    " \n",
    "                if not self.canWin(current): # 看当前的字串是否存在边界，没有++了\n",
    "                    return True # 对手不能赢，那就是当前翻转的赢了\n",
    "        return False # loop中没有返回，不能赢，当前翻转的输了　　"
   ]
  }
 ],
 "metadata": {
  "kernelspec": {
   "display_name": "Python 3",
   "language": "python",
   "name": "python3"
  },
  "language_info": {
   "codemirror_mode": {
    "name": "ipython",
    "version": 3
   },
   "file_extension": ".py",
   "mimetype": "text/x-python",
   "name": "python",
   "nbconvert_exporter": "python",
   "pygments_lexer": "ipython3",
   "version": "3.7.4"
  }
 },
 "nbformat": 4,
 "nbformat_minor": 2
}
